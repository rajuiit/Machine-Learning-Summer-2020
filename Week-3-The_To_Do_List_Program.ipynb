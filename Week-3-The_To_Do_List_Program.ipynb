{
  "nbformat": 4,
  "nbformat_minor": 0,
  "metadata": {
    "colab": {
      "name": "The To-Do List Program.ipynb",
      "provenance": [],
      "authorship_tag": "ABX9TyMfrvc6scn6FqDC/9AI3ecT",
      "include_colab_link": true
    },
    "kernelspec": {
      "name": "python3",
      "display_name": "Python 3"
    }
  },
  "cells": [
    {
      "cell_type": "markdown",
      "metadata": {
        "id": "view-in-github",
        "colab_type": "text"
      },
      "source": [
        "<a href=\"https://colab.research.google.com/github/rajuiit/Machine-Learning-Summer-2020/blob/master/Week-3-The_To_Do_List_Program.ipynb\" target=\"_parent\"><img src=\"https://colab.research.google.com/assets/colab-badge.svg\" alt=\"Open In Colab\"/></a>"
      ]
    },
    {
      "cell_type": "code",
      "metadata": {
        "id": "mztILmt6yMVv",
        "colab_type": "code",
        "colab": {
          "base_uri": "https://localhost:8080/",
          "height": 187
        },
        "outputId": "32c37052-5a01-4a8f-99d7-97dda397e963"
      },
      "source": [
        "data = []\n",
        "choice = 'random'\n",
        "\n",
        "def line():\n",
        "    print('---------------------------')\n",
        "\n",
        "def show_menu():\n",
        "    line()\n",
        "    print('MENU')\n",
        "    line()\n",
        "    print('1. Add item')\n",
        "    print('2. Mark as done')\n",
        "    print('3. View list')\n",
        "    print('4. Exit')\n",
        "    line()\n",
        "    choice = input('Enter your choice: ')\n",
        "    return choice\n",
        "\n",
        "while choice != '4':\n",
        "    choice = show_menu()\n",
        "    if choice == '1':\n",
        "        item = input('What is to be done? ')\n",
        "        data.append(item)\n",
        "        print('Item', item, 'added')\n",
        "    elif choice == '2':\n",
        "        item = input('What is to be marked as done? ')\n",
        "        if item in data:\n",
        "            data.remove(item)\n",
        "            print('Removed item', item)\n",
        "        else:\n",
        "            print('Could not find item', item)\n",
        "    elif choice == '3':\n",
        "        print('List of to-do items:')\n",
        "        for item in data:\n",
        "            print(item)\n",
        "    elif choice == '4':\n",
        "        print('Goodbye!')\n",
        "    else:\n",
        "        print('Please enter one of 1, 2, 3 or 4')"
      ],
      "execution_count": 2,
      "outputs": [
        {
          "output_type": "stream",
          "text": [
            "---------------------------\n",
            "MENU\n",
            "---------------------------\n",
            "1. Add item\n",
            "2. Mark as done\n",
            "3. View list\n",
            "4. Exit\n",
            "---------------------------\n",
            "Enter your choice: 4\n",
            "Goodbye!\n"
          ],
          "name": "stdout"
        }
      ]
    }
  ]
}