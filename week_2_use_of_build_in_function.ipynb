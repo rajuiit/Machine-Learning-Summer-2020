{
  "nbformat": 4,
  "nbformat_minor": 0,
  "metadata": {
    "colab": {
      "name": "week-2-use-of-build-in-function.ipynb",
      "provenance": [],
      "authorship_tag": "ABX9TyNw2NEQICLLcED7XIjbctWj",
      "include_colab_link": true
    },
    "kernelspec": {
      "name": "python3",
      "display_name": "Python 3"
    }
  },
  "cells": [
    {
      "cell_type": "markdown",
      "metadata": {
        "id": "view-in-github",
        "colab_type": "text"
      },
      "source": [
        "<a href=\"https://colab.research.google.com/github/rajuiit/Machine-Learning-Summer-2020/blob/master/week_2_use_of_build_in_function.ipynb\" target=\"_parent\"><img src=\"https://colab.research.google.com/assets/colab-badge.svg\" alt=\"Open In Colab\"/></a>"
      ]
    },
    {
      "cell_type": "code",
      "metadata": {
        "id": "PATjSYmJvjr2",
        "colab_type": "code",
        "outputId": "ec4228bc-a152-4c36-9f18-5debed1f5e61",
        "colab": {
          "base_uri": "https://localhost:8080/",
          "height": 34
        }
      },
      "source": [
        "print(type(90))"
      ],
      "execution_count": 0,
      "outputs": [
        {
          "output_type": "stream",
          "text": [
            "<class 'int'>\n"
          ],
          "name": "stdout"
        }
      ]
    },
    {
      "cell_type": "code",
      "metadata": {
        "id": "pgKGnyVfvtZ7",
        "colab_type": "code",
        "outputId": "eb9e19c0-907c-49db-d14c-b0362cdc738f",
        "colab": {
          "base_uri": "https://localhost:8080/",
          "height": 34
        }
      },
      "source": [
        "age = 'John'\n",
        "name = 90\n",
        "\n",
        "print('My name is', name, 'and my age is', age)"
      ],
      "execution_count": 0,
      "outputs": [
        {
          "output_type": "stream",
          "text": [
            "My name is 90 and my age is John\n"
          ],
          "name": "stdout"
        }
      ]
    },
    {
      "cell_type": "code",
      "metadata": {
        "id": "5xzHr9L0vzTJ",
        "colab_type": "code",
        "outputId": "fdc8b19c-7bd8-42d5-e6db-e17eb2444264",
        "colab": {
          "base_uri": "https://localhost:8080/",
          "height": 34
        }
      },
      "source": [
        "numbers = [1, 2, 3, 4, 5]\n",
        "numbers.pop()\n",
        "numbers.remove(1)\n",
        "print(numbers)"
      ],
      "execution_count": 0,
      "outputs": [
        {
          "output_type": "stream",
          "text": [
            "[2, 3, 4]\n"
          ],
          "name": "stdout"
        }
      ]
    },
    {
      "cell_type": "code",
      "metadata": {
        "id": "LGQirpSBv_jr",
        "colab_type": "code",
        "outputId": "20b339fc-5c39-467f-9c8d-d6aed353e892",
        "colab": {
          "base_uri": "https://localhost:8080/",
          "height": 68
        }
      },
      "source": [
        "def print_square_value(numbers):\n",
        "    for number in numbers:\n",
        "        if number != 2:\n",
        "            squared = number * number\n",
        "            print(squared)\n",
        "\n",
        "numbers = [1, 2, 3, 4]\n",
        "\n",
        "print_square_value(numbers)"
      ],
      "execution_count": 0,
      "outputs": [
        {
          "output_type": "stream",
          "text": [
            "1\n",
            "9\n",
            "16\n"
          ],
          "name": "stdout"
        }
      ]
    },
    {
      "cell_type": "code",
      "metadata": {
        "id": "reNuvha3vtY2",
        "colab_type": "code",
        "colab": {}
      },
      "source": [
        ""
      ],
      "execution_count": 0,
      "outputs": []
    }
  ]
}