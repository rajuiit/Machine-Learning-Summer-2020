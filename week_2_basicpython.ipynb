{
  "nbformat": 4,
  "nbformat_minor": 0,
  "metadata": {
    "language_info": {
      "name": "python",
      "version": "3.7.6",
      "mimetype": "text/x-python",
      "codemirror_mode": {
        "name": "ipython",
        "version": 3
      },
      "pygments_lexer": "ipython3",
      "nbconvert_exporter": "python",
      "file_extension": ".py"
    },
    "kernelspec": {
      "name": "python3",
      "display_name": "Python 3",
      "language": "python"
    },
    "colab": {
      "name": "week-2-basicpython.ipynb",
      "provenance": [],
      "include_colab_link": true
    }
  },
  "cells": [
    {
      "cell_type": "markdown",
      "metadata": {
        "id": "view-in-github",
        "colab_type": "text"
      },
      "source": [
        "<a href=\"https://colab.research.google.com/github/rajuiit/Machine-Learning-Summer-2020/blob/master/week_2_basicpython.ipynb\" target=\"_parent\"><img src=\"https://colab.research.google.com/assets/colab-badge.svg\" alt=\"Open In Colab\"/></a>"
      ]
    },
    {
      "cell_type": "markdown",
      "metadata": {
        "id": "ztSSgk63zilj",
        "colab_type": "text"
      },
      "source": [
        "# ##Getting Started With Python"
      ]
    },
    {
      "cell_type": "markdown",
      "metadata": {
        "id": "De2mHgXF7gUY",
        "colab_type": "text"
      },
      "source": [
        "# Why Python\n",
        "\n",
        "In this course, we are going to use the Python programming language to build several intelligent applications that use machine learning. Python is a simple scripting language that makes it easy to interact with data. Furthermore, Python has a wide range of packages that make it easy to get started and build applications, from the simplest ones to the most complex. Python is widely used in industry, and is becoming the de facto language for data science in industry. (R is another alternative language. However, R tends to be significantly less scalable and has very few deployment tools, thus it is seldom used for production code in industry. It is possible, but highly discouraged to use R in this specialization.)\n",
        "\n",
        "We will also use the Jupyter Notebook in our videos. The Jupyter Notebook is a simple interactive environment for programming with Python, which makes it really easy to share your results. Think about it as a combination of a Python terminal and a wiki page. Thus, you can combine code, plots and text to explain what you did. (You are not required to use Jupyter Notebook in the assignments, and should have no problem using straight up Python if you prefer.)\n",
        "\n"
      ]
    },
    {
      "cell_type": "code",
      "metadata": {
        "trusted": true,
        "id": "jZiM15Sizilm",
        "colab_type": "code",
        "colab": {},
        "outputId": "a0183d03-36c3-445d-fafc-e86dd5a828ea"
      },
      "source": [
        "print('Hello World')"
      ],
      "execution_count": 0,
      "outputs": [
        {
          "output_type": "stream",
          "text": [
            "Hello World\n"
          ],
          "name": "stdout"
        }
      ]
    },
    {
      "cell_type": "markdown",
      "metadata": {
        "id": "NAE72Yqqzilw",
        "colab_type": "text"
      },
      "source": [
        "# Create some variable in python"
      ]
    },
    {
      "cell_type": "code",
      "metadata": {
        "trusted": true,
        "id": "efWcZQfRzilx",
        "colab_type": "code",
        "colab": {}
      },
      "source": [
        "i=4"
      ],
      "execution_count": 0,
      "outputs": []
    },
    {
      "cell_type": "code",
      "metadata": {
        "trusted": true,
        "id": "l5P5kwFvzil1",
        "colab_type": "code",
        "colab": {},
        "outputId": "5d53552a-ba89-4fb0-a835-09d0ab48b24f"
      },
      "source": [
        "type(i)"
      ],
      "execution_count": 0,
      "outputs": [
        {
          "output_type": "execute_result",
          "data": {
            "text/plain": [
              "int"
            ]
          },
          "metadata": {
            "tags": []
          },
          "execution_count": 3
        }
      ]
    },
    {
      "cell_type": "code",
      "metadata": {
        "trusted": true,
        "id": "6elkkFNPzil6",
        "colab_type": "code",
        "colab": {}
      },
      "source": [
        "f=2.14"
      ],
      "execution_count": 0,
      "outputs": []
    },
    {
      "cell_type": "code",
      "metadata": {
        "trusted": true,
        "id": "ERZGfn0rzil-",
        "colab_type": "code",
        "colab": {},
        "outputId": "be5d2273-49b2-47df-9ec5-2f98868b2042"
      },
      "source": [
        "type(f)"
      ],
      "execution_count": 0,
      "outputs": [
        {
          "output_type": "execute_result",
          "data": {
            "text/plain": [
              "float"
            ]
          },
          "metadata": {
            "tags": []
          },
          "execution_count": 5
        }
      ]
    },
    {
      "cell_type": "code",
      "metadata": {
        "trusted": true,
        "id": "Uy3fsy84zimD",
        "colab_type": "code",
        "colab": {},
        "outputId": "cf79f791-261a-4fba-ae82-36f04f68c631"
      },
      "source": [
        "b=True\n",
        "type(b)"
      ],
      "execution_count": 0,
      "outputs": [
        {
          "output_type": "execute_result",
          "data": {
            "text/plain": [
              "bool"
            ]
          },
          "metadata": {
            "tags": []
          },
          "execution_count": 6
        }
      ]
    },
    {
      "cell_type": "code",
      "metadata": {
        "trusted": true,
        "id": "_Wm9CcU0zimJ",
        "colab_type": "code",
        "colab": {}
      },
      "source": [
        "s=\"This is the string\""
      ],
      "execution_count": 0,
      "outputs": []
    },
    {
      "cell_type": "code",
      "metadata": {
        "trusted": true,
        "id": "cc4YxK70zimV",
        "colab_type": "code",
        "colab": {},
        "outputId": "5053a2ca-bdd1-489c-f0aa-b45df0838d11"
      },
      "source": [
        "print(s)"
      ],
      "execution_count": 0,
      "outputs": [
        {
          "output_type": "stream",
          "text": [
            "This is the string\n"
          ],
          "name": "stdout"
        }
      ]
    },
    {
      "cell_type": "markdown",
      "metadata": {
        "id": "B1apPxD4zimZ",
        "colab_type": "text"
      },
      "source": [
        "# Advanced python types"
      ]
    },
    {
      "cell_type": "code",
      "metadata": {
        "trusted": true,
        "id": "oOHufNTlzima",
        "colab_type": "code",
        "colab": {}
      },
      "source": [
        "#list\n",
        "l=[4,6,7]"
      ],
      "execution_count": 0,
      "outputs": []
    },
    {
      "cell_type": "markdown",
      "metadata": {
        "id": "ccEJdv5Jzime",
        "colab_type": "text"
      },
      "source": [
        "print(l)"
      ]
    },
    {
      "cell_type": "code",
      "metadata": {
        "trusted": true,
        "id": "4PbAEG-azimf",
        "colab_type": "code",
        "colab": {}
      },
      "source": [
        "#dictionary\n",
        "d={'foo': 1, 'bar': 2}"
      ],
      "execution_count": 0,
      "outputs": []
    },
    {
      "cell_type": "code",
      "metadata": {
        "trusted": true,
        "id": "LJQnudQ5zimj",
        "colab_type": "code",
        "colab": {},
        "outputId": "99a04635-be5c-4f34-8f3a-2cd9ba971c0a"
      },
      "source": [
        "print (d['foo'])"
      ],
      "execution_count": 0,
      "outputs": [
        {
          "output_type": "stream",
          "text": [
            "1\n"
          ],
          "name": "stdout"
        }
      ]
    },
    {
      "cell_type": "code",
      "metadata": {
        "trusted": true,
        "id": "evmsxYMtzimn",
        "colab_type": "code",
        "colab": {},
        "outputId": "bf1c4594-8ca1-4020-d1cb-b7116d7d289e"
      },
      "source": [
        "n=None\n",
        "type(n)"
      ],
      "execution_count": 0,
      "outputs": [
        {
          "output_type": "execute_result",
          "data": {
            "text/plain": [
              "NoneType"
            ]
          },
          "metadata": {
            "tags": []
          },
          "execution_count": 16
        }
      ]
    },
    {
      "cell_type": "markdown",
      "metadata": {
        "id": "RqtCPwjZzimr",
        "colab_type": "text"
      },
      "source": [
        "# Advanced Printing"
      ]
    },
    {
      "cell_type": "code",
      "metadata": {
        "trusted": true,
        "id": "-tWs0GuNzims",
        "colab_type": "code",
        "colab": {},
        "outputId": "2c8fd2f9-dfe3-4dfc-f05d-c2802ede5f3f"
      },
      "source": [
        "print (\"Our float value is %s. and Our integer value is %s.\" % (f, i))"
      ],
      "execution_count": 0,
      "outputs": [
        {
          "output_type": "stream",
          "text": [
            "Our float value is 2.14. and Our integer value is 4.\n"
          ],
          "name": "stdout"
        }
      ]
    },
    {
      "cell_type": "markdown",
      "metadata": {
        "id": "yyXpZwTazimw",
        "colab_type": "text"
      },
      "source": [
        "# Conditional Statement"
      ]
    },
    {
      "cell_type": "code",
      "metadata": {
        "trusted": true,
        "id": "JM8YuOx_zimw",
        "colab_type": "code",
        "colab": {},
        "outputId": "2fbed2cc-7fec-4c33-b09f-b47483422dbc"
      },
      "source": [
        "if i ==1 and f > 4:\n",
        "   print(\"The value of i is 1 and f is greater then 4\")\n",
        "elif i > 4 and f>4:\n",
        "    print(\"i and f is greater than 4\")\n",
        "else:\n",
        "    print(\"Both i and f are less than 4\")"
      ],
      "execution_count": 0,
      "outputs": [
        {
          "output_type": "stream",
          "text": [
            "Both i and f are less than 4\n"
          ],
          "name": "stdout"
        }
      ]
    },
    {
      "cell_type": "markdown",
      "metadata": {
        "id": "L60M62tJzim0",
        "colab_type": "text"
      },
      "source": [
        "# Conditional Loop"
      ]
    },
    {
      "cell_type": "code",
      "metadata": {
        "trusted": true,
        "id": "gsH-Crwzzim1",
        "colab_type": "code",
        "colab": {},
        "outputId": "27780fa2-9f0a-40d5-8fad-0d78ed256edd"
      },
      "source": [
        "print(l)"
      ],
      "execution_count": 0,
      "outputs": [
        {
          "output_type": "stream",
          "text": [
            "[4, 6, 7]\n"
          ],
          "name": "stdout"
        }
      ]
    },
    {
      "cell_type": "code",
      "metadata": {
        "trusted": true,
        "id": "JyE-yaWdzim5",
        "colab_type": "code",
        "colab": {},
        "outputId": "55c6ba39-6e47-45f7-dfc8-1c9ba8ab182c"
      },
      "source": [
        "for element in l:\n",
        "    print(element)"
      ],
      "execution_count": 0,
      "outputs": [
        {
          "output_type": "stream",
          "text": [
            "4\n",
            "6\n",
            "7\n"
          ],
          "name": "stdout"
        }
      ]
    },
    {
      "cell_type": "code",
      "metadata": {
        "trusted": true,
        "id": "IZU22Q_Vzim8",
        "colab_type": "code",
        "colab": {},
        "outputId": "930b7589-a727-494d-fe17-59ead55453c9"
      },
      "source": [
        "counter=0\n",
        "while counter < 10:\n",
        "    print(counter)\n",
        "    counter+=1"
      ],
      "execution_count": 0,
      "outputs": [
        {
          "output_type": "stream",
          "text": [
            "0\n",
            "1\n",
            "2\n",
            "3\n",
            "4\n",
            "5\n",
            "6\n",
            "7\n",
            "8\n",
            "9\n"
          ],
          "name": "stdout"
        }
      ]
    },
    {
      "cell_type": "markdown",
      "metadata": {
        "id": "CbKQpDeMzinA",
        "colab_type": "text"
      },
      "source": [
        "# Creating Function "
      ]
    },
    {
      "cell_type": "code",
      "metadata": {
        "trusted": true,
        "id": "JgA7liirzinB",
        "colab_type": "code",
        "colab": {}
      },
      "source": [
        "def add(x):\n",
        "    y=i+2;\n",
        "    return y"
      ],
      "execution_count": 0,
      "outputs": []
    },
    {
      "cell_type": "code",
      "metadata": {
        "trusted": true,
        "id": "F2OZk957zinE",
        "colab_type": "code",
        "colab": {}
      },
      "source": [
        "i=4"
      ],
      "execution_count": 0,
      "outputs": []
    },
    {
      "cell_type": "code",
      "metadata": {
        "trusted": true,
        "id": "tBt_XJ5vzinI",
        "colab_type": "code",
        "colab": {},
        "outputId": "cc130904-8532-42d0-a8bb-74833a59eb26"
      },
      "source": [
        "add(i)"
      ],
      "execution_count": 0,
      "outputs": [
        {
          "output_type": "execute_result",
          "data": {
            "text/plain": [
              "6"
            ]
          },
          "metadata": {
            "tags": []
          },
          "execution_count": 38
        }
      ]
    },
    {
      "cell_type": "markdown",
      "metadata": {
        "id": "p-OxG4A5zinM",
        "colab_type": "text"
      },
      "source": [
        "# ##End of Basic Python"
      ]
    }
  ]
}